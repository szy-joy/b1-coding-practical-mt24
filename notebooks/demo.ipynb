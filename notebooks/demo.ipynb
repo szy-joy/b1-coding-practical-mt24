{
 "cells": [
  {
   "cell_type": "code",
   "execution_count": 1,
   "metadata": {},
   "outputs": [],
   "source": [
    "# Add relevant Jupyter notebook extensions \n",
    "import os"
   ]
  },
  {
   "cell_type": "code",
   "execution_count": 2,
   "metadata": {},
   "outputs": [
    {
     "name": "stdout",
     "output_type": "stream",
     "text": [
      "['c:\\\\Users\\\\17477\\\\Desktop\\\\Year3\\\\B1\\\\Coding Practical\\\\b1-coding-practical-mt24\\\\notebooks', 'C:\\\\Users\\\\17477\\\\Desktop\\\\Year3\\\\B1\\\\Coding Practical\\\\b1-coding-practical-mt24>:', 'd:\\\\python\\\\python311.zip', 'd:\\\\python\\\\DLLs', 'd:\\\\python\\\\Lib', 'd:\\\\python', '', 'C:\\\\Users\\\\17477\\\\AppData\\\\Roaming\\\\Python\\\\Python311\\\\site-packages', 'C:\\\\Users\\\\17477\\\\AppData\\\\Roaming\\\\Python\\\\Python311\\\\site-packages\\\\win32', 'C:\\\\Users\\\\17477\\\\AppData\\\\Roaming\\\\Python\\\\Python311\\\\site-packages\\\\win32\\\\lib', 'C:\\\\Users\\\\17477\\\\AppData\\\\Roaming\\\\Python\\\\Python311\\\\site-packages\\\\Pythonwin', 'd:\\\\python\\\\Lib\\\\site-packages']\n"
     ]
    }
   ],
   "source": [
    "# You can double-check your Python path like this...\n",
    "import sys  \n",
    "print(sys.path)"
   ]
  },
  {
   "cell_type": "markdown",
   "metadata": {},
   "source": [
    "# Simulate closed-loop\n",
    "After implementing your control functionality, you can simulate the closed-loop with code that looks something like this..."
   ]
  },
  {
   "cell_type": "code",
   "execution_count": 3,
   "metadata": {},
   "outputs": [
    {
     "ename": "FileNotFoundError",
     "evalue": "[Errno 2] No such file or directory: 'data/mission.csv'",
     "output_type": "error",
     "traceback": [
      "\u001b[1;31m---------------------------------------------------------------------------\u001b[0m",
      "\u001b[1;31mFileNotFoundError\u001b[0m                         Traceback (most recent call last)",
      "Cell \u001b[1;32mIn[3], line 11\u001b[0m\n\u001b[0;32m      8\u001b[0m controller \u001b[38;5;241m=\u001b[39m PDController(KP\u001b[38;5;241m=\u001b[39m\u001b[38;5;241m0.15\u001b[39m, KD\u001b[38;5;241m=\u001b[39m\u001b[38;5;241m0.6\u001b[39m)\n\u001b[0;32m     10\u001b[0m closed_loop \u001b[38;5;241m=\u001b[39m ClosedLoop(sub, controller)\n\u001b[1;32m---> 11\u001b[0m mission \u001b[38;5;241m=\u001b[39m \u001b[43mMission\u001b[49m\u001b[38;5;241;43m.\u001b[39;49m\u001b[43mfrom_csv\u001b[49m\u001b[43m(\u001b[49m\u001b[38;5;124;43m\"\u001b[39;49m\u001b[38;5;124;43mdata/mission.csv\u001b[39;49m\u001b[38;5;124;43m\"\u001b[39;49m\u001b[43m)\u001b[49m \u001b[38;5;66;03m# You must implement this method in the Mission class\u001b[39;00m\n\u001b[0;32m     13\u001b[0m trajectory \u001b[38;5;241m=\u001b[39m closed_loop\u001b[38;5;241m.\u001b[39msimulate_with_random_disturbances(mission)\n\u001b[0;32m     14\u001b[0m trajectory\u001b[38;5;241m.\u001b[39mplot_completed_mission(mission)\n",
      "File \u001b[1;32mc:\\Users\\17477\\Desktop\\Year3\\B1\\Coding Practical\\b1-coding-practical-mt24\\uuv_mission\\dynamic.py:85\u001b[0m, in \u001b[0;36mMission.from_csv\u001b[1;34m(cls, file_name)\u001b[0m\n\u001b[0;32m     82\u001b[0m cave_depth \u001b[38;5;241m=\u001b[39m []\n\u001b[0;32m     84\u001b[0m \u001b[38;5;66;03m# Open the CSV file and read the data\u001b[39;00m\n\u001b[1;32m---> 85\u001b[0m \u001b[38;5;28;01mwith\u001b[39;00m \u001b[38;5;28;43mopen\u001b[39;49m\u001b[43m(\u001b[49m\u001b[43mfile_name\u001b[49m\u001b[43m,\u001b[49m\u001b[43m \u001b[49m\u001b[43mmode\u001b[49m\u001b[38;5;241;43m=\u001b[39;49m\u001b[38;5;124;43m'\u001b[39;49m\u001b[38;5;124;43mr\u001b[39;49m\u001b[38;5;124;43m'\u001b[39;49m\u001b[43m)\u001b[49m \u001b[38;5;28;01mas\u001b[39;00m file:\n\u001b[0;32m     86\u001b[0m     csv_reader \u001b[38;5;241m=\u001b[39m csv\u001b[38;5;241m.\u001b[39mreader(file)\n\u001b[0;32m     87\u001b[0m     \u001b[38;5;28mnext\u001b[39m(csv_reader)  \u001b[38;5;66;03m# Skip the header row\u001b[39;00m\n",
      "\u001b[1;31mFileNotFoundError\u001b[0m: [Errno 2] No such file or directory: 'data/mission.csv'"
     ]
    }
   ],
   "source": [
    "# Import relevant modules\n",
    "#sys.path.append(os.path.abspath(\"../\"))\n",
    "from uuv_mission.dynamic import Submarine, ClosedLoop, Mission\n",
    "from uuv_mission.controller import PDController\n",
    "\n",
    "sub = Submarine()\n",
    "# Instantiate your controller (depending on your implementation)\n",
    "controller = PDController(KP=0.15, KD=0.6)\n",
    "\n",
    "closed_loop = ClosedLoop(sub, controller)\n",
    "mission = Mission.from_csv(\"../data/mission.csv\") # You must implement this method in the Mission class\n",
    "\n",
    "trajectory = closed_loop.simulate_with_random_disturbances(mission)\n",
    "trajectory.plot_completed_mission(mission)"
   ]
  }
 ],
 "metadata": {
  "kernelspec": {
   "display_name": "Python 3",
   "language": "python",
   "name": "python3"
  },
  "language_info": {
   "codemirror_mode": {
    "name": "ipython",
    "version": 3
   },
   "file_extension": ".py",
   "mimetype": "text/x-python",
   "name": "python",
   "nbconvert_exporter": "python",
   "pygments_lexer": "ipython3",
   "version": "3.11.9"
  }
 },
 "nbformat": 4,
 "nbformat_minor": 2
}
